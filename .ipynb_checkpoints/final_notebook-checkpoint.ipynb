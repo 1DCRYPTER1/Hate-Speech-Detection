{
 "cells": [
  {
   "cell_type": "markdown",
   "metadata": {},
   "source": [
    "# Twitter Hate Speech Detection\n"
   ]
  },
  {
   "cell_type": "code",
   "execution_count": 1,
   "metadata": {},
   "outputs": [
    {
     "name": "stderr",
     "output_type": "stream",
     "text": [
      "C:\\Users\\Shaun Dsilva\\anaconda3\\envs\\ShaunEnv\\lib\\site-packages\\gensim\\similarities\\__init__.py:15: UserWarning: The gensim.similarities.levenshtein submodule is disabled, because the optional Levenshtein package <https://pypi.org/project/python-Levenshtein/> is unavailable. Install Levenhstein (e.g. `pip install python-Levenshtein`) to suppress this warning.\n",
      "  warnings.warn(msg)\n"
     ]
    }
   ],
   "source": [
    "# importing relevant libraries\n",
    "import numpy as np\n",
    "import pandas as pd\n",
    "import matplotlib.pyplot as plt\n",
    "from matplotlib import cm\n",
    "import seaborn as sns\n",
    "%matplotlib inline\n",
    "plt.style.use('bmh')\n",
    "import pickle\n",
    "# custom fuctions\n",
    "from src import helper_functions as helpers\n",
    "\n",
    "# NLP libraries\n",
    "import nltk\n",
    "from sklearn.feature_extraction import text \n",
    "from nltk.stem import WordNetLemmatizer, PorterStemmer\n",
    "from sklearn.feature_extraction.text import CountVectorizer, TfidfVectorizer, TfidfTransformer\n",
    "from nltk.probability import FreqDist\n",
    "from nltk.corpus import stopwords\n",
    "from gensim.models.doc2vec import Doc2Vec, TaggedDocument\n",
    "\n",
    "# modeling libraries\n",
    "from sklearn.model_selection import train_test_split, cross_val_score, GridSearchCV\n",
    "from imblearn.over_sampling import SMOTE\n",
    "from imblearn.under_sampling import TomekLinks\n",
    "from collections import Counter\n",
    "from sklearn import metrics, utils, model_selection, svm\n",
    "from sklearn.naive_bayes import MultinomialNB\n",
    "from sklearn.linear_model import LogisticRegression\n",
    "from sklearn.tree import DecisionTreeClassifier\n",
    "from sklearn.ensemble import RandomForestClassifier\n",
    "from sklearn.svm import LinearSVC\n",
    "from sklearn.metrics import precision_score, recall_score, f1_score, confusion_matrix, plot_confusion_matrix, classification_report"
   ]
  },
  {
   "cell_type": "markdown",
   "metadata": {},
   "source": [
    "***"
   ]
  },
  {
   "cell_type": "code",
   "execution_count": 2,
   "metadata": {},
   "outputs": [],
   "source": [
    "# loading in clean_df\n",
    "clean_df = pd.read_pickle('./pickle/clean_df.pkl')"
   ]
  },
  {
   "cell_type": "code",
   "execution_count": 3,
   "metadata": {},
   "outputs": [
    {
     "data": {
      "text/html": [
       "<div>\n",
       "<style scoped>\n",
       "    .dataframe tbody tr th:only-of-type {\n",
       "        vertical-align: middle;\n",
       "    }\n",
       "\n",
       "    .dataframe tbody tr th {\n",
       "        vertical-align: top;\n",
       "    }\n",
       "\n",
       "    .dataframe thead th {\n",
       "        text-align: right;\n",
       "    }\n",
       "</style>\n",
       "<table border=\"1\" class=\"dataframe\">\n",
       "  <thead>\n",
       "    <tr style=\"text-align: right;\">\n",
       "      <th></th>\n",
       "      <th>total_votes</th>\n",
       "      <th>hate_speech_votes</th>\n",
       "      <th>other_votes</th>\n",
       "      <th>label</th>\n",
       "      <th>tweet</th>\n",
       "      <th>clean_tweets</th>\n",
       "    </tr>\n",
       "  </thead>\n",
       "  <tbody>\n",
       "    <tr>\n",
       "      <th>0</th>\n",
       "      <td>3</td>\n",
       "      <td>0</td>\n",
       "      <td>3</td>\n",
       "      <td>0</td>\n",
       "      <td>!!! RT @mayasolovely: As a woman you shouldn't...</td>\n",
       "      <td>as a woman you shouldnt complain about clea...</td>\n",
       "    </tr>\n",
       "    <tr>\n",
       "      <th>1</th>\n",
       "      <td>3</td>\n",
       "      <td>0</td>\n",
       "      <td>3</td>\n",
       "      <td>0</td>\n",
       "      <td>!!!!! RT @mleew17: boy dats cold...tyga dwn ba...</td>\n",
       "      <td>boy dats coldtyga dwn bad for cuffin dat ho...</td>\n",
       "    </tr>\n",
       "    <tr>\n",
       "      <th>2</th>\n",
       "      <td>3</td>\n",
       "      <td>0</td>\n",
       "      <td>3</td>\n",
       "      <td>0</td>\n",
       "      <td>!!!!!!! RT @UrKindOfBrand Dawg!!!! RT @80sbaby...</td>\n",
       "      <td>dawg   you ever fuck a bitch and she sta to...</td>\n",
       "    </tr>\n",
       "  </tbody>\n",
       "</table>\n",
       "</div>"
      ],
      "text/plain": [
       "   total_votes  hate_speech_votes  other_votes  label  \\\n",
       "0            3                  0            3      0   \n",
       "1            3                  0            3      0   \n",
       "2            3                  0            3      0   \n",
       "\n",
       "                                               tweet  \\\n",
       "0  !!! RT @mayasolovely: As a woman you shouldn't...   \n",
       "1  !!!!! RT @mleew17: boy dats cold...tyga dwn ba...   \n",
       "2  !!!!!!! RT @UrKindOfBrand Dawg!!!! RT @80sbaby...   \n",
       "\n",
       "                                        clean_tweets  \n",
       "0     as a woman you shouldnt complain about clea...  \n",
       "1     boy dats coldtyga dwn bad for cuffin dat ho...  \n",
       "2     dawg   you ever fuck a bitch and she sta to...  "
      ]
     },
     "execution_count": 3,
     "metadata": {},
     "output_type": "execute_result"
    }
   ],
   "source": [
    "# previewing data\n",
    "clean_df.head(3)"
   ]
  },
  {
   "cell_type": "markdown",
   "metadata": {},
   "source": [
    "From here, we'll be focusing on the `clean_tweets` column and the target variable, `label`."
   ]
  },
  {
   "cell_type": "code",
   "execution_count": 4,
   "metadata": {},
   "outputs": [],
   "source": [
    "# assigning variables to essential columns\n",
    "data = clean_df['clean_tweets']\n",
    "target = clean_df['label']"
   ]
  },
  {
   "cell_type": "code",
   "execution_count": 5,
   "metadata": {},
   "outputs": [],
   "source": [
    "# setting NLTK stop words as `stop_words`\n",
    "stop_words = set(stopwords.words('english'))"
   ]
  },
  {
   "cell_type": "markdown",
   "metadata": {},
   "source": [
    "Next, we can use the `process_tweet` helper function, which tokenizes all the text and removes stop words."
   ]
  },
  {
   "cell_type": "code",
   "execution_count": 6,
   "metadata": {},
   "outputs": [
    {
     "name": "stderr",
     "output_type": "stream",
     "text": [
      "[nltk_data] Downloading package punkt to C:\\Users\\Shaun\n",
      "[nltk_data]     Dsilva\\AppData\\Roaming\\nltk_data...\n",
      "[nltk_data]   Package punkt is already up-to-date!\n"
     ]
    },
    {
     "data": {
      "text/plain": [
       "True"
      ]
     },
     "execution_count": 6,
     "metadata": {},
     "output_type": "execute_result"
    }
   ],
   "source": [
    "nltk.download('punkt')"
   ]
  },
  {
   "cell_type": "code",
   "execution_count": 7,
   "metadata": {},
   "outputs": [],
   "source": [
    "# applying the above function to our `clean_tweets`\n",
    "processed_data = list(map(helpers.process_tweet, data))"
   ]
  },
  {
   "cell_type": "code",
   "execution_count": 8,
   "metadata": {},
   "outputs": [
    {
     "data": {
      "text/plain": [
       "20277"
      ]
     },
     "execution_count": 8,
     "metadata": {},
     "output_type": "execute_result"
    }
   ],
   "source": [
    "# getting count of all unique words in the corpus\n",
    "total_vocab = set()\n",
    "for comment in processed_data:\n",
    "    total_vocab.update(comment)\n",
    "len(total_vocab)"
   ]
  },
  {
   "cell_type": "markdown",
   "metadata": {},
   "source": [
    "## Top Words in Corpus"
   ]
  },
  {
   "cell_type": "code",
   "execution_count": 9,
   "metadata": {},
   "outputs": [
    {
     "data": {
      "text/plain": [
       "[('bitch', 8227),\n",
       " ('bitches', 3083),\n",
       " ('like', 2766),\n",
       " ('hoes', 2368),\n",
       " ('pussy', 2099),\n",
       " ('im', 2061),\n",
       " ('hoe', 1906),\n",
       " ('dont', 1749),\n",
       " ('got', 1597),\n",
       " ('ass', 1570),\n",
       " ('get', 1428),\n",
       " ('fuck', 1411),\n",
       " ('u', 1280),\n",
       " ('shit', 1262),\n",
       " ('nigga', 1198),\n",
       " ('aint', 1158),\n",
       " ('trash', 1142),\n",
       " ('lol', 1074),\n",
       " ('know', 806),\n",
       " ('niggas', 791)]"
      ]
     },
     "execution_count": 9,
     "metadata": {},
     "output_type": "execute_result"
    }
   ],
   "source": [
    "# transforming `processed_data` into a readable list\n",
    "flat_filtered = [item for sublist in processed_data for item in sublist]\n",
    "# getting frequency distribution\n",
    "clean_corpus_freqdist = FreqDist(flat_filtered)\n",
    "# top 20 words in cleaned corpus\n",
    "clean_corpus_freqdist.most_common(20)"
   ]
  },
  {
   "cell_type": "code",
   "execution_count": 10,
   "metadata": {},
   "outputs": [
    {
     "name": "stderr",
     "output_type": "stream",
     "text": [
      "[nltk_data] Downloading package wordnet to C:\\Users\\Shaun\n",
      "[nltk_data]     Dsilva\\AppData\\Roaming\\nltk_data...\n",
      "[nltk_data]   Package wordnet is already up-to-date!\n"
     ]
    },
    {
     "data": {
      "text/plain": [
       "True"
      ]
     },
     "execution_count": 10,
     "metadata": {},
     "output_type": "execute_result"
    }
   ],
   "source": [
    "nltk.download('wordnet')"
   ]
  },
  {
   "cell_type": "code",
   "execution_count": 11,
   "metadata": {},
   "outputs": [],
   "source": [
    "# creating a list with all lemmatized outputs\n",
    "lemmatizer = WordNetLemmatizer() \n",
    "lemmatized_output = []\n",
    "\n",
    "for listy in processed_data:\n",
    "    lemmed = ' '.join([lemmatizer.lemmatize(w) for w in listy])\n",
    "    lemmatized_output.append(lemmed)"
   ]
  },
  {
   "cell_type": "code",
   "execution_count": 12,
   "metadata": {},
   "outputs": [],
   "source": [
    "X_lem = lemmatized_output\n",
    "y_lem = target"
   ]
  },
  {
   "cell_type": "markdown",
   "metadata": {},
   "source": [
    "## Train-Test Split"
   ]
  },
  {
   "cell_type": "code",
   "execution_count": 13,
   "metadata": {},
   "outputs": [],
   "source": [
    "# initial TTS\n",
    "X_train, X_test, y_train, y_test = train_test_split(X_lem, y_lem, test_size=0.20, random_state=15)"
   ]
  },
  {
   "cell_type": "markdown",
   "metadata": {},
   "source": [
    "## TF-IDF Vectorization\n"
   ]
  },
  {
   "cell_type": "code",
   "execution_count": 14,
   "metadata": {},
   "outputs": [],
   "source": [
    "# instantiating tf_idf vectorizer\n",
    "tfidf = TfidfVectorizer(stop_words= stop_words, ngram_range=(1,2))"
   ]
  },
  {
   "cell_type": "code",
   "execution_count": 15,
   "metadata": {},
   "outputs": [],
   "source": [
    "# transforming tokenized data into sparse matrix format with 20K stored elements\n",
    "X_train_tfidf = tfidf.fit_transform(X_train)\n",
    "X_test_tfidf = tfidf.transform(X_test)"
   ]
  },
  {
   "cell_type": "code",
   "execution_count": 16,
   "metadata": {
    "scrolled": true
   },
   "outputs": [
    {
     "name": "stdout",
     "output_type": "stream",
     "text": [
      "Average Number of Non-Zero Elements in Vectorized Articles: 13.364420457984465\n",
      "Percentage of columns containing ZERO: 0.9998720483637183\n"
     ]
    }
   ],
   "source": [
    "# taking a quick look at the non zero elements\n",
    "non_zero_cols = X_train_tfidf.nnz / float(X_train_tfidf.shape[0])\n",
    "print(\"Average Number of Non-Zero Elements in Vectorized Articles: {}\".format(non_zero_cols))\n",
    "percent_sparse = 1 - (non_zero_cols / float(X_train_tfidf.shape[1]))\n",
    "print('Percentage of columns containing ZERO: {}'.format(percent_sparse))"
   ]
  },
  {
   "cell_type": "markdown",
   "metadata": {},
   "source": [
    "# Modeling Process"
   ]
  },
  {
   "cell_type": "markdown",
   "metadata": {},
   "source": [
    "## Baseline Random Forest"
   ]
  },
  {
   "cell_type": "code",
   "execution_count": 17,
   "metadata": {},
   "outputs": [],
   "source": [
    "rf_baseline = RandomForestClassifier(n_estimators=100, class_weight='balanced', random_state=0)"
   ]
  },
  {
   "cell_type": "code",
   "execution_count": 18,
   "metadata": {},
   "outputs": [
    {
     "name": "stdout",
     "output_type": "stream",
     "text": [
      "Wall time: 48.1 s\n"
     ]
    }
   ],
   "source": [
    "%%time\n",
    "rf_baseline.fit(X_train_tfidf, y_train)\n",
    "rf_test_preds = rf_baseline.predict(X_test_tfidf)"
   ]
  },
  {
   "cell_type": "code",
   "execution_count": 19,
   "metadata": {},
   "outputs": [
    {
     "name": "stdout",
     "output_type": "stream",
     "text": [
      "Testing Set Evaluation Metrics:\n",
      "Precision: 0.4128\n",
      "Recall: 0.1613\n",
      "F1 Score: 0.232\n",
      "Weighted F1 Score: 0.9272\n"
     ]
    }
   ],
   "source": [
    "rf_precision = precision_score(y_test, rf_test_preds)\n",
    "rf_recall = recall_score(y_test, rf_test_preds)\n",
    "rf_f1_score = f1_score(y_test, rf_test_preds)\n",
    "rf_f1_weighted = f1_score(y_test, rf_test_preds, average='weighted')\n",
    "\n",
    "# printing scores\n",
    "helpers.evaluation(rf_precision, rf_recall, rf_f1_score, rf_f1_weighted)"
   ]
  },
  {
   "cell_type": "code",
   "execution_count": 20,
   "metadata": {},
   "outputs": [
    {
     "name": "stdout",
     "output_type": "stream",
     "text": [
      "Wall time: 12min 8s\n"
     ]
    }
   ],
   "source": [
    "%%time\n",
    "# training f1\n",
    "rf_f1_cv = cross_val_score(rf_baseline, X_train_tfidf, y_train, scoring='f1', cv=5)\n",
    "rf_mean_cv = round(rf_f1_cv.mean(), 6)"
   ]
  },
  {
   "cell_type": "code",
   "execution_count": 21,
   "metadata": {},
   "outputs": [
    {
     "data": {
      "text/plain": [
       "'underfit'"
      ]
     },
     "execution_count": 21,
     "metadata": {},
     "output_type": "execute_result"
    }
   ],
   "source": [
    "# is this model overfit or underfit?\n",
    "rf_fit = helpers.model_fit(rf_mean_cv, rf_f1_score)\n",
    "rf_fit"
   ]
  },
  {
   "cell_type": "code",
   "execution_count": 22,
   "metadata": {},
   "outputs": [],
   "source": [
    "# creating dictionary to store all metrics\n",
    "metric_dict = {}\n",
    "# adding scores to metric_dict\n",
    "metric_dict['Baseline Random Forest - TFIDF'] = {'precision': rf_precision, 'recall': rf_recall, 'f1_score': rf_f1_score, 'weighted_f1': rf_f1_weighted, 'fit': rf_fit}"
   ]
  },
  {
   "cell_type": "markdown",
   "metadata": {},
   "source": [
    "## Baseline Logistic Regression"
   ]
  },
  {
   "cell_type": "code",
   "execution_count": 23,
   "metadata": {},
   "outputs": [],
   "source": [
    "log_reg_baseline = LogisticRegression(penalty='l2', class_weight='balanced', random_state=20)\n",
    "# class_weight='balanced' actually didn't impact the score"
   ]
  },
  {
   "cell_type": "code",
   "execution_count": 24,
   "metadata": {},
   "outputs": [
    {
     "name": "stdout",
     "output_type": "stream",
     "text": [
      "Wall time: 987 ms\n"
     ]
    }
   ],
   "source": [
    "%%time\n",
    "log_reg_baseline.fit(X_train_tfidf, y_train)\n",
    "log_reg_test_preds = log_reg_baseline.predict(X_test_tfidf)"
   ]
  },
  {
   "cell_type": "code",
   "execution_count": 25,
   "metadata": {},
   "outputs": [
    {
     "name": "stdout",
     "output_type": "stream",
     "text": [
      "Testing Set Evaluation Metrics:\n",
      "Precision: 0.2939\n",
      "Recall: 0.5699\n",
      "F1 Score: 0.3878\n",
      "Weighted F1 Score: 0.9134\n"
     ]
    }
   ],
   "source": [
    "log_reg_precision = precision_score(y_test, log_reg_test_preds)\n",
    "log_reg_recall = recall_score(y_test, log_reg_test_preds)\n",
    "log_reg_f1_score = f1_score(y_test, log_reg_test_preds)\n",
    "log_reg_f1_weighted = f1_score(y_test, log_reg_test_preds, average='weighted')\n",
    "\n",
    "# printing scores\n",
    "helpers.evaluation(log_reg_precision, log_reg_recall, log_reg_f1_score, log_reg_f1_weighted)"
   ]
  },
  {
   "cell_type": "code",
   "execution_count": 26,
   "metadata": {},
   "outputs": [
    {
     "name": "stdout",
     "output_type": "stream",
     "text": [
      "Wall time: 3.9 s\n"
     ]
    }
   ],
   "source": [
    "%%time\n",
    "# training f1\n",
    "log_reg_f1_cv = cross_val_score(log_reg_baseline, X_train_tfidf, y_train, scoring='f1', cv=5)\n",
    "log_reg_mean_cv = round(log_reg_f1_cv.mean(), 6)"
   ]
  },
  {
   "cell_type": "code",
   "execution_count": 27,
   "metadata": {},
   "outputs": [
    {
     "data": {
      "text/plain": [
       "'overfit'"
      ]
     },
     "execution_count": 27,
     "metadata": {},
     "output_type": "execute_result"
    }
   ],
   "source": [
    "# is this model overfit or underfit?\n",
    "log_reg_fit = helpers.model_fit(log_reg_mean_cv, log_reg_f1_score)\n",
    "log_reg_fit"
   ]
  },
  {
   "cell_type": "code",
   "execution_count": 28,
   "metadata": {},
   "outputs": [],
   "source": [
    "# adding scores to metric_dict\n",
    "metric_dict['Baseline Log Reg - TFIDF'] = {'precision': log_reg_precision, 'recall': log_reg_recall, 'f1_score': log_reg_f1_score, 'weighted_f1': log_reg_f1_weighted, 'fit': log_reg_fit}"
   ]
  },
  {
   "cell_type": "markdown",
   "metadata": {},
   "source": [
    "## Baseline Naive Bayes"
   ]
  },
  {
   "cell_type": "code",
   "execution_count": 29,
   "metadata": {},
   "outputs": [],
   "source": [
    "baseline_bayes = MultinomialNB(alpha = .01)"
   ]
  },
  {
   "cell_type": "code",
   "execution_count": 30,
   "metadata": {},
   "outputs": [
    {
     "name": "stdout",
     "output_type": "stream",
     "text": [
      "Wall time: 14 ms\n"
     ]
    }
   ],
   "source": [
    "%%time\n",
    "baseline_bayes.fit(X_train_tfidf, y_train)\n",
    "bayes_test_preds = baseline_bayes.predict(X_test_tfidf)"
   ]
  },
  {
   "cell_type": "code",
   "execution_count": 31,
   "metadata": {},
   "outputs": [
    {
     "name": "stdout",
     "output_type": "stream",
     "text": [
      "Testing Set Evaluation Metrics:\n",
      "Precision: 0.4118\n",
      "Recall: 0.1254\n",
      "F1 Score: 0.1923\n",
      "Weighted F1 Score: 0.9255\n"
     ]
    }
   ],
   "source": [
    "bayes_precision = precision_score(y_test, bayes_test_preds)\n",
    "bayes_recall = recall_score(y_test, bayes_test_preds)\n",
    "bayes_f1_score = f1_score(y_test, bayes_test_preds)\n",
    "bayes_f1_weighted = f1_score(y_test, bayes_test_preds, average='weighted')\n",
    "\n",
    "# printing scores\n",
    "helpers.evaluation(bayes_precision, bayes_recall, bayes_f1_score, bayes_f1_weighted)"
   ]
  },
  {
   "cell_type": "code",
   "execution_count": 32,
   "metadata": {},
   "outputs": [
    {
     "name": "stdout",
     "output_type": "stream",
     "text": [
      "Wall time: 88 ms\n"
     ]
    }
   ],
   "source": [
    "%%time\n",
    "# training f1\n",
    "bayes_f1_cv = cross_val_score(baseline_bayes, X_train_tfidf, y_train, scoring='f1', cv=5)\n",
    "bayes_mean_cv = round(bayes_f1_cv.mean(), 6)"
   ]
  },
  {
   "cell_type": "code",
   "execution_count": 33,
   "metadata": {},
   "outputs": [
    {
     "data": {
      "text/plain": [
       "'underfit'"
      ]
     },
     "execution_count": 33,
     "metadata": {},
     "output_type": "execute_result"
    }
   ],
   "source": [
    "bayes_fit = helpers.model_fit(bayes_mean_cv, bayes_f1_score)\n",
    "bayes_fit"
   ]
  },
  {
   "cell_type": "code",
   "execution_count": 34,
   "metadata": {},
   "outputs": [],
   "source": [
    "# adding scores to metric_dict\n",
    "metric_dict['Baseline Naive Bayes - TFIDF'] = {'precision': bayes_precision, 'recall': bayes_recall, 'f1_score': bayes_f1_score, 'weighted_f1': bayes_f1_weighted, 'fit': bayes_fit}"
   ]
  },
  {
   "cell_type": "code",
   "execution_count": 35,
   "metadata": {},
   "outputs": [],
   "source": [
    "SVM_baseline = svm.SVC(C=1.0, kernel='linear', degree=3, gamma='auto', class_weight='balanced')"
   ]
  },
  {
   "cell_type": "code",
   "execution_count": 36,
   "metadata": {},
   "outputs": [
    {
     "name": "stdout",
     "output_type": "stream",
     "text": [
      "Wall time: 1min 6s\n"
     ]
    }
   ],
   "source": [
    "%%time \n",
    "# fit the training dataset on the classifier\n",
    "SVM_baseline.fit(X_train_tfidf, y_train)\n",
    "# predict the labels on validation dataset\n",
    "SVM_test_preds = SVM_baseline.predict(X_test_tfidf)"
   ]
  },
  {
   "cell_type": "code",
   "execution_count": 37,
   "metadata": {},
   "outputs": [
    {
     "name": "stdout",
     "output_type": "stream",
     "text": [
      "Testing Set Evaluation Metrics:\n",
      "Precision: 0.3609\n",
      "Recall: 0.4373\n",
      "F1 Score: 0.3955\n",
      "Weighted F1 Score: 0.9281\n"
     ]
    }
   ],
   "source": [
    "SVM_precision = precision_score(y_test, SVM_test_preds)\n",
    "SVM_recall = recall_score(y_test, SVM_test_preds)\n",
    "SVM_f1_score = f1_score(y_test, SVM_test_preds)\n",
    "SVM_f1_weighted = f1_score(y_test, SVM_test_preds, average='weighted')\n",
    "\n",
    "# printing scores\n",
    "helpers.evaluation(SVM_precision, SVM_recall, SVM_f1_score, SVM_f1_weighted)"
   ]
  },
  {
   "cell_type": "code",
   "execution_count": 38,
   "metadata": {},
   "outputs": [
    {
     "name": "stdout",
     "output_type": "stream",
     "text": [
      "Wall time: 3min 15s\n"
     ]
    }
   ],
   "source": [
    "%%time\n",
    "# training f1\n",
    "base_SVM_f1_cv = cross_val_score(SVM_baseline, X_train_tfidf, y_train, scoring='f1', cv=5)\n",
    "base_SVM_mean_cv = round(base_SVM_f1_cv.mean(), 6)"
   ]
  },
  {
   "cell_type": "code",
   "execution_count": 39,
   "metadata": {},
   "outputs": [
    {
     "data": {
      "text/plain": [
       "'underfit'"
      ]
     },
     "execution_count": 39,
     "metadata": {},
     "output_type": "execute_result"
    }
   ],
   "source": [
    "# is this model overfit or underfit?\n",
    "base_SVM_fit = helpers.model_fit(base_SVM_mean_cv, SVM_f1_score)\n",
    "base_SVM_fit"
   ]
  },
  {
   "cell_type": "code",
   "execution_count": 40,
   "metadata": {},
   "outputs": [],
   "source": [
    "# adding scores to metric_dict\n",
    "metric_dict['Baseline SVM - TFIDF'] = {'precision': SVM_precision, 'recall': SVM_recall, 'f1_score': SVM_f1_score, 'weighted_f1': SVM_f1_weighted, 'fit': base_SVM_fit}"
   ]
  },
  {
   "cell_type": "markdown",
   "metadata": {},
   "source": [
    "## Evaluation Metrics for All Baseline Models"
   ]
  },
  {
   "cell_type": "code",
   "execution_count": 41,
   "metadata": {},
   "outputs": [
    {
     "data": {
      "text/html": [
       "<div>\n",
       "<style scoped>\n",
       "    .dataframe tbody tr th:only-of-type {\n",
       "        vertical-align: middle;\n",
       "    }\n",
       "\n",
       "    .dataframe tbody tr th {\n",
       "        vertical-align: top;\n",
       "    }\n",
       "\n",
       "    .dataframe thead th {\n",
       "        text-align: right;\n",
       "    }\n",
       "</style>\n",
       "<table border=\"1\" class=\"dataframe\">\n",
       "  <thead>\n",
       "    <tr style=\"text-align: right;\">\n",
       "      <th></th>\n",
       "      <th>precision</th>\n",
       "      <th>recall</th>\n",
       "      <th>f1_score</th>\n",
       "      <th>weighted_f1</th>\n",
       "      <th>fit</th>\n",
       "    </tr>\n",
       "  </thead>\n",
       "  <tbody>\n",
       "    <tr>\n",
       "      <th>Baseline Random Forest - TFIDF</th>\n",
       "      <td>0.412844</td>\n",
       "      <td>0.161290</td>\n",
       "      <td>0.231959</td>\n",
       "      <td>0.927249</td>\n",
       "      <td>underfit</td>\n",
       "    </tr>\n",
       "    <tr>\n",
       "      <th>Baseline Log Reg - TFIDF</th>\n",
       "      <td>0.293900</td>\n",
       "      <td>0.569892</td>\n",
       "      <td>0.387805</td>\n",
       "      <td>0.913449</td>\n",
       "      <td>overfit</td>\n",
       "    </tr>\n",
       "    <tr>\n",
       "      <th>Baseline Naive Bayes - TFIDF</th>\n",
       "      <td>0.411765</td>\n",
       "      <td>0.125448</td>\n",
       "      <td>0.192308</td>\n",
       "      <td>0.925487</td>\n",
       "      <td>underfit</td>\n",
       "    </tr>\n",
       "    <tr>\n",
       "      <th>Baseline SVM - TFIDF</th>\n",
       "      <td>0.360947</td>\n",
       "      <td>0.437276</td>\n",
       "      <td>0.395462</td>\n",
       "      <td>0.928112</td>\n",
       "      <td>underfit</td>\n",
       "    </tr>\n",
       "  </tbody>\n",
       "</table>\n",
       "</div>"
      ],
      "text/plain": [
       "                                precision    recall  f1_score  weighted_f1  \\\n",
       "Baseline Random Forest - TFIDF   0.412844  0.161290  0.231959     0.927249   \n",
       "Baseline Log Reg - TFIDF         0.293900  0.569892  0.387805     0.913449   \n",
       "Baseline Naive Bayes - TFIDF     0.411765  0.125448  0.192308     0.925487   \n",
       "Baseline SVM - TFIDF             0.360947  0.437276  0.395462     0.928112   \n",
       "\n",
       "                                     fit  \n",
       "Baseline Random Forest - TFIDF  underfit  \n",
       "Baseline Log Reg - TFIDF         overfit  \n",
       "Baseline Naive Bayes - TFIDF    underfit  \n",
       "Baseline SVM - TFIDF            underfit  "
      ]
     },
     "execution_count": 41,
     "metadata": {},
     "output_type": "execute_result"
    }
   ],
   "source": [
    "# printing dict for testing set metrics\n",
    "pd.DataFrame.from_dict(metric_dict, orient='index')"
   ]
  },
  {
   "cell_type": "markdown",
   "metadata": {},
   "source": [
    "***"
   ]
  },
  {
   "cell_type": "code",
   "execution_count": 42,
   "metadata": {},
   "outputs": [],
   "source": [
    "# fresh TTS for doc2vec data\n",
    "doc_train, doc_test = train_test_split(clean_df, test_size=0.3, random_state=42)"
   ]
  },
  {
   "cell_type": "code",
   "execution_count": 43,
   "metadata": {},
   "outputs": [],
   "source": [
    "# tagging training set\n",
    "tagged_train = doc_train.apply(\n",
    "    lambda r: TaggedDocument(words=helpers.tokenize_text(r['clean_tweets']), tags=[r.label]), axis=1)\n",
    "# tagging testing set\n",
    "tagged_test = doc_test.apply(\n",
    "    lambda r: TaggedDocument(words=helpers.tokenize_text(r['clean_tweets']), tags=[r.label]), axis=1)"
   ]
  },
  {
   "cell_type": "markdown",
   "metadata": {},
   "source": [
    "Let's take a look an example of a tagged tweet."
   ]
  },
  {
   "cell_type": "code",
   "execution_count": 44,
   "metadata": {},
   "outputs": [
    {
     "data": {
      "text/plain": [
       "TaggedDocument(words=['this', 'bitch', 'instating', 'and', 'driving', 'for', 'me'], tags=[0])"
      ]
     },
     "execution_count": 44,
     "metadata": {},
     "output_type": "execute_result"
    }
   ],
   "source": [
    "tagged_train.values[30]"
   ]
  },
  {
   "cell_type": "code",
   "execution_count": 45,
   "metadata": {},
   "outputs": [],
   "source": [
    "# instantiating a doc2vec DBOW model\n",
    "dbow_model = Doc2Vec(vector_size=100, \n",
    "                alpha=0.025, \n",
    "                min_count=5,\n",
    "                dm=1, epochs=100)"
   ]
  },
  {
   "cell_type": "code",
   "execution_count": 46,
   "metadata": {},
   "outputs": [
    {
     "name": "stderr",
     "output_type": "stream",
     "text": [
      "100%|███████████████████████████████████████████████████████████████████████| 17348/17348 [00:00<00:00, 3478976.13it/s]\n"
     ]
    }
   ],
   "source": [
    "from tqdm import tqdm\n",
    "tqdm.pandas(desc=\"progress-bar\")\n",
    "\n",
    "# building vocabulary \n",
    "dbow_model.build_vocab([x for x in tqdm(tagged_train.values)])"
   ]
  },
  {
   "cell_type": "code",
   "execution_count": 47,
   "metadata": {},
   "outputs": [
    {
     "name": "stderr",
     "output_type": "stream",
     "text": [
      "100%|███████████████████████████████████████████████████████████████████████| 17348/17348 [00:00<00:00, 3479308.84it/s]\n",
      "100%|███████████████████████████████████████████████████████████████████████| 17348/17348 [00:00<00:00, 4348980.08it/s]\n",
      "100%|███████████████████████████████████████████████████████████████████████| 17348/17348 [00:00<00:00, 4336538.88it/s]\n",
      "100%|███████████████████████████████████████████████████████████████████████| 17348/17348 [00:00<00:00, 4306254.71it/s]\n",
      "100%|███████████████████████████████████████████████████████████████████████| 17348/17348 [00:00<00:00, 3457157.11it/s]\n",
      "100%|███████████████████████████████████████████████████████████████████████| 17348/17348 [00:00<00:00, 4314937.19it/s]\n",
      "100%|███████████████████████████████████████████████████████████████████████| 17348/17348 [00:00<00:00, 4349760.03it/s]\n",
      "100%|███████████████████████████████████████████████████████████████████████| 17348/17348 [00:00<00:00, 3492334.33it/s]\n",
      "100%|███████████████████████████████████████████████████████████████████████| 17348/17348 [00:00<00:00, 4347940.59it/s]\n",
      "100%|███████████████████████████████████████████████████████████████████████| 17348/17348 [00:00<00:00, 3493172.63it/s]\n",
      "100%|███████████████████████████████████████████████████████████████████████| 17348/17348 [00:00<00:00, 3454859.02it/s]\n",
      "100%|███████████████████████████████████████████████████████████████████████| 17348/17348 [00:00<00:00, 4348460.28it/s]\n",
      "100%|███████████████████████████████████████████████████████████████████████| 17348/17348 [00:00<00:00, 3470679.03it/s]\n",
      "100%|███████████████████████████████████████████████████████████████████████| 17348/17348 [00:00<00:00, 4318778.83it/s]\n",
      "100%|███████████████████████████████████████████████████████████████████████| 17348/17348 [00:00<00:00, 4334988.73it/s]\n",
      "100%|███████████████████████████████████████████████████████████████████████| 17348/17348 [00:00<00:00, 4349760.03it/s]\n",
      "100%|███████████████████████████████████████████████████████████████████████| 17348/17348 [00:00<00:00, 3478643.49it/s]\n",
      "100%|███████████████████████████████████████████████████████████████████████| 17348/17348 [00:00<00:00, 3501914.80it/s]\n",
      "100%|███████████████████████████████████████████████████████████████████████| 17348/17348 [00:00<00:00, 4346382.28it/s]\n",
      "100%|███████████████████████████████████████████████████████████████████████| 17348/17348 [00:00<00:00, 3487981.68it/s]\n",
      "100%|███████████████████████████████████████████████████████████████████████| 17348/17348 [00:00<00:00, 3479974.45it/s]\n",
      "100%|███████████████████████████████████████████████████████████████████████| 17348/17348 [00:00<00:00, 4326739.95it/s]\n",
      "100%|███████████████████████████████████████████████████████████████████████| 17348/17348 [00:00<00:00, 4313146.76it/s]\n",
      "100%|███████████████████████████████████████████████████████████████████████| 17348/17348 [00:00<00:00, 3459787.26it/s]\n",
      "100%|███████████████████████████████████████████████████████████████████████| 17348/17348 [00:00<00:00, 3479475.22it/s]\n",
      "100%|███████████████████████████████████████████████████████████████████████| 17348/17348 [00:00<00:00, 4343787.58it/s]\n",
      "100%|███████████████████████████████████████████████████████████████████████| 17348/17348 [00:00<00:00, 4380397.68it/s]\n",
      "100%|███████████████████████████████████████████████████████████████████████| 17348/17348 [00:00<00:00, 4313913.90it/s]\n",
      "100%|███████████████████████████████████████████████████████████████████████| 17348/17348 [00:00<00:00, 4321087.11it/s]\n",
      "100%|███████████████████████████████████████████████████████████████████████| 17348/17348 [00:00<00:00, 4355748.92it/s]\n"
     ]
    },
    {
     "name": "stdout",
     "output_type": "stream",
     "text": [
      "Wall time: 31.1 s\n"
     ]
    }
   ],
   "source": [
    "%%time\n",
    "for epoch in range(30):\n",
    "    dbow_model.train(utils.shuffle([x for x in tqdm(tagged_train.values)]), total_examples=len(tagged_train.values), epochs=1)\n",
    "    dbow_model.alpha -= 0.002\n",
    "    dbow_model.min_alpha = dbow_model.alpha"
   ]
  },
  {
   "cell_type": "code",
   "execution_count": 48,
   "metadata": {},
   "outputs": [],
   "source": [
    "# train-test split\n",
    "doc_y_train, doc_X_train = helpers.vec_for_learning(dbow_model, tagged_train)\n",
    "doc_y_test, doc_X_test = helpers.vec_for_learning(dbow_model, tagged_test)"
   ]
  },
  {
   "cell_type": "code",
   "execution_count": 49,
   "metadata": {},
   "outputs": [],
   "source": [
    "# instantiating new SVM model\n",
    "Doc2Vec_SVM = svm.SVC(C=1.0, kernel='linear', degree=3, gamma='auto', class_weight='balanced')"
   ]
  },
  {
   "cell_type": "code",
   "execution_count": 50,
   "metadata": {},
   "outputs": [
    {
     "name": "stdout",
     "output_type": "stream",
     "text": [
      "Wall time: 31 s\n"
     ]
    },
    {
     "data": {
      "text/plain": [
       "SVC(class_weight='balanced', gamma='auto', kernel='linear')"
      ]
     },
     "execution_count": 50,
     "metadata": {},
     "output_type": "execute_result"
    }
   ],
   "source": [
    "%%time\n",
    "# fit the training dataset on the classifier\n",
    "Doc2Vec_SVM.fit(doc_X_train, doc_y_train)"
   ]
  },
  {
   "cell_type": "code",
   "execution_count": 51,
   "metadata": {},
   "outputs": [],
   "source": [
    "# predict the labels on testing dataset\n",
    "doc_SVM_y_preds = Doc2Vec_SVM.predict(doc_X_test)"
   ]
  },
  {
   "cell_type": "code",
   "execution_count": 52,
   "metadata": {},
   "outputs": [
    {
     "name": "stdout",
     "output_type": "stream",
     "text": [
      "Testing Set Evaluation Metrics:\n",
      "Precision: 0.1273\n",
      "Recall: 0.5129\n",
      "F1 Score: 0.2039\n",
      "Weighted F1 Score: 0.8276\n"
     ]
    }
   ],
   "source": [
    "doc_SVM_precision = precision_score(doc_y_test, doc_SVM_y_preds)\n",
    "doc_SVM_recall = recall_score(doc_y_test, doc_SVM_y_preds)\n",
    "doc_SVM_f1_score = f1_score(doc_y_test, doc_SVM_y_preds)\n",
    "doc_SVM_f1_weighted = f1_score(doc_y_test, doc_SVM_y_preds, average='weighted')\n",
    "\n",
    "# printing scores\n",
    "helpers.evaluation(doc_SVM_precision, doc_SVM_recall, doc_SVM_f1_score, doc_SVM_f1_weighted)"
   ]
  },
  {
   "cell_type": "code",
   "execution_count": 53,
   "metadata": {},
   "outputs": [
    {
     "name": "stdout",
     "output_type": "stream",
     "text": [
      "Wall time: 2min 10s\n"
     ]
    }
   ],
   "source": [
    "%%time\n",
    "# training f1\n",
    "doc_SVM_f1_cv = cross_val_score(Doc2Vec_SVM, doc_X_train, doc_y_train, scoring='f1', cv=5)\n",
    "doc_SVM_mean_cv = round(doc_SVM_f1_cv.mean(), 6)"
   ]
  },
  {
   "cell_type": "code",
   "execution_count": 54,
   "metadata": {},
   "outputs": [
    {
     "data": {
      "text/plain": [
       "'overfit'"
      ]
     },
     "execution_count": 54,
     "metadata": {},
     "output_type": "execute_result"
    }
   ],
   "source": [
    "# is this model overfit or underfit?\n",
    "doc_SVM_fit = helpers.model_fit(doc_SVM_mean_cv, doc_SVM_f1_score)\n",
    "doc_SVM_fit"
   ]
  },
  {
   "cell_type": "code",
   "execution_count": 55,
   "metadata": {},
   "outputs": [],
   "source": [
    "metric_dict['Baseline SVM - Doc2Vec'] = {'precision': doc_SVM_precision, 'recall': doc_SVM_recall, 'f1_score': doc_SVM_f1_score, 'weighted_f1': doc_SVM_f1_weighted, 'fit': doc_SVM_fit}"
   ]
  },
  {
   "cell_type": "markdown",
   "metadata": {},
   "source": [
    "### Comparing with Other Models"
   ]
  },
  {
   "cell_type": "code",
   "execution_count": 56,
   "metadata": {},
   "outputs": [
    {
     "data": {
      "text/html": [
       "<div>\n",
       "<style scoped>\n",
       "    .dataframe tbody tr th:only-of-type {\n",
       "        vertical-align: middle;\n",
       "    }\n",
       "\n",
       "    .dataframe tbody tr th {\n",
       "        vertical-align: top;\n",
       "    }\n",
       "\n",
       "    .dataframe thead th {\n",
       "        text-align: right;\n",
       "    }\n",
       "</style>\n",
       "<table border=\"1\" class=\"dataframe\">\n",
       "  <thead>\n",
       "    <tr style=\"text-align: right;\">\n",
       "      <th></th>\n",
       "      <th>precision</th>\n",
       "      <th>recall</th>\n",
       "      <th>f1_score</th>\n",
       "      <th>weighted_f1</th>\n",
       "      <th>fit</th>\n",
       "    </tr>\n",
       "  </thead>\n",
       "  <tbody>\n",
       "    <tr>\n",
       "      <th>Baseline Random Forest - TFIDF</th>\n",
       "      <td>0.412844</td>\n",
       "      <td>0.161290</td>\n",
       "      <td>0.231959</td>\n",
       "      <td>0.927249</td>\n",
       "      <td>underfit</td>\n",
       "    </tr>\n",
       "    <tr>\n",
       "      <th>Baseline Log Reg - TFIDF</th>\n",
       "      <td>0.293900</td>\n",
       "      <td>0.569892</td>\n",
       "      <td>0.387805</td>\n",
       "      <td>0.913449</td>\n",
       "      <td>overfit</td>\n",
       "    </tr>\n",
       "    <tr>\n",
       "      <th>Baseline Naive Bayes - TFIDF</th>\n",
       "      <td>0.411765</td>\n",
       "      <td>0.125448</td>\n",
       "      <td>0.192308</td>\n",
       "      <td>0.925487</td>\n",
       "      <td>underfit</td>\n",
       "    </tr>\n",
       "    <tr>\n",
       "      <th>Baseline SVM - TFIDF</th>\n",
       "      <td>0.360947</td>\n",
       "      <td>0.437276</td>\n",
       "      <td>0.395462</td>\n",
       "      <td>0.928112</td>\n",
       "      <td>underfit</td>\n",
       "    </tr>\n",
       "    <tr>\n",
       "      <th>Baseline SVM - Doc2Vec</th>\n",
       "      <td>0.127252</td>\n",
       "      <td>0.512881</td>\n",
       "      <td>0.203911</td>\n",
       "      <td>0.827586</td>\n",
       "      <td>overfit</td>\n",
       "    </tr>\n",
       "  </tbody>\n",
       "</table>\n",
       "</div>"
      ],
      "text/plain": [
       "                                precision    recall  f1_score  weighted_f1  \\\n",
       "Baseline Random Forest - TFIDF   0.412844  0.161290  0.231959     0.927249   \n",
       "Baseline Log Reg - TFIDF         0.293900  0.569892  0.387805     0.913449   \n",
       "Baseline Naive Bayes - TFIDF     0.411765  0.125448  0.192308     0.925487   \n",
       "Baseline SVM - TFIDF             0.360947  0.437276  0.395462     0.928112   \n",
       "Baseline SVM - Doc2Vec           0.127252  0.512881  0.203911     0.827586   \n",
       "\n",
       "                                     fit  \n",
       "Baseline Random Forest - TFIDF  underfit  \n",
       "Baseline Log Reg - TFIDF         overfit  \n",
       "Baseline Naive Bayes - TFIDF    underfit  \n",
       "Baseline SVM - TFIDF            underfit  \n",
       "Baseline SVM - Doc2Vec           overfit  "
      ]
     },
     "execution_count": 56,
     "metadata": {},
     "output_type": "execute_result"
    }
   ],
   "source": [
    "# printing dict for testing set metrics\n",
    "pd.DataFrame.from_dict(metric_dict, orient='index')"
   ]
  },
  {
   "cell_type": "markdown",
   "metadata": {},
   "source": [
    "### SVM Baselines: TF-IDF vs. Doc2Vec"
   ]
  },
  {
   "cell_type": "code",
   "execution_count": 57,
   "metadata": {},
   "outputs": [
    {
     "name": "stdout",
     "output_type": "stream",
     "text": [
      "-------------- SVM Baseline with TF-IDF -------------\n",
      "              precision    recall  f1-score   support\n",
      "\n",
      "     class 0       0.97      0.95      0.96      4678\n",
      "     class 1       0.36      0.44      0.40       279\n",
      "\n",
      "    accuracy                           0.92      4957\n",
      "   macro avg       0.66      0.70      0.68      4957\n",
      "weighted avg       0.93      0.92      0.93      4957\n",
      "\n",
      "------------- SVM Baseline with Doc2Vec -------------\n",
      "              precision    recall  f1-score   support\n",
      "\n",
      "     class 0       0.96      0.79      0.87      7008\n",
      "     class 1       0.13      0.51      0.20       427\n",
      "\n",
      "    accuracy                           0.77      7435\n",
      "   macro avg       0.55      0.65      0.53      7435\n",
      "weighted avg       0.92      0.77      0.83      7435\n",
      "\n"
     ]
    }
   ],
   "source": [
    "target_names = ['class 0', 'class 1']\n",
    "# Tf-IDF baseline\n",
    "print('-'*14 + ' SVM Baseline with TF-IDF ' + '-'*13)\n",
    "print(classification_report(y_test, SVM_test_preds, target_names=target_names))\n",
    "# Doc2Vec baseline\n",
    "print('-'*13 + ' SVM Baseline with Doc2Vec ' + '-'*13)\n",
    "print(classification_report(doc_y_test, doc_SVM_y_preds, target_names=target_names))"
   ]
  },
  {
   "cell_type": "markdown",
   "metadata": {},
   "source": [
    "***"
   ]
  },
  {
   "cell_type": "code",
   "execution_count": 58,
   "metadata": {},
   "outputs": [],
   "source": [
    "# fresh TTS\n",
    "X_train, X_test, y_train, y_test = train_test_split(X_lem, y_lem, test_size=0.20, random_state=20)"
   ]
  },
  {
   "cell_type": "code",
   "execution_count": 59,
   "metadata": {},
   "outputs": [],
   "source": [
    "# instantiating count vectorizer\n",
    "count = CountVectorizer(stop_words=stop_words)"
   ]
  },
  {
   "cell_type": "code",
   "execution_count": 60,
   "metadata": {},
   "outputs": [],
   "source": [
    "# fitting to the train and test set\n",
    "X_train_count = count.fit_transform(X_train)\n",
    "X_test_count = count.transform(X_test)"
   ]
  },
  {
   "cell_type": "markdown",
   "metadata": {},
   "source": [
    "## Baseline Linear SVM with Count Vectorization"
   ]
  },
  {
   "cell_type": "code",
   "execution_count": 61,
   "metadata": {},
   "outputs": [],
   "source": [
    "count_SVM = svm.SVC(C=1.0, kernel='linear', degree=3, gamma='auto', class_weight='balanced')"
   ]
  },
  {
   "cell_type": "code",
   "execution_count": 62,
   "metadata": {},
   "outputs": [
    {
     "name": "stdout",
     "output_type": "stream",
     "text": [
      "Wall time: 28.1 s\n"
     ]
    }
   ],
   "source": [
    "%%time \n",
    "# fit the training dataset on the classifier\n",
    "count_SVM.fit(X_train_count, y_train)\n",
    "# predict the labels on validation dataset\n",
    "count_SVM_test_preds = count_SVM.predict(X_test_count)"
   ]
  },
  {
   "cell_type": "code",
   "execution_count": 63,
   "metadata": {},
   "outputs": [
    {
     "name": "stdout",
     "output_type": "stream",
     "text": [
      "Testing Set Evaluation Metrics:\n",
      "Precision: 0.2712\n",
      "Recall: 0.5365\n",
      "F1 Score: 0.3603\n",
      "Weighted F1 Score: 0.9104\n"
     ]
    }
   ],
   "source": [
    "count_SVM_precision = precision_score(y_test, count_SVM_test_preds)\n",
    "count_SVM_recall = recall_score(y_test, count_SVM_test_preds)\n",
    "count_SVM_f1_score = f1_score(y_test, count_SVM_test_preds)\n",
    "count_SVM_f1_weighted = f1_score(y_test, count_SVM_test_preds, average='weighted')\n",
    "\n",
    "# printing scores\n",
    "helpers.evaluation(count_SVM_precision, count_SVM_recall, count_SVM_f1_score, count_SVM_f1_weighted)"
   ]
  },
  {
   "cell_type": "code",
   "execution_count": 64,
   "metadata": {},
   "outputs": [
    {
     "name": "stdout",
     "output_type": "stream",
     "text": [
      "Wall time: 1min 49s\n"
     ]
    }
   ],
   "source": [
    "%%time\n",
    "# training f1\n",
    "count_SVM_f1_cv = cross_val_score(count_SVM, doc_X_train, doc_y_train, scoring='f1', cv=5)\n",
    "count_SVM_mean_cv = round(count_SVM_f1_cv.mean(), 6)"
   ]
  },
  {
   "cell_type": "code",
   "execution_count": 65,
   "metadata": {},
   "outputs": [
    {
     "data": {
      "text/plain": [
       "'overfit'"
      ]
     },
     "execution_count": 65,
     "metadata": {},
     "output_type": "execute_result"
    }
   ],
   "source": [
    "# is this model overfit or underfit?\n",
    "count_SVM_fit = helpers.model_fit(doc_SVM_mean_cv, doc_SVM_f1_score)\n",
    "count_SVM_fit"
   ]
  },
  {
   "cell_type": "code",
   "execution_count": 66,
   "metadata": {},
   "outputs": [],
   "source": [
    "metric_dict['Baseline SVM - CountVectorizer'] = {'precision': count_SVM_precision, 'recall': count_SVM_recall, 'f1_score': count_SVM_f1_score, 'weighted_f1': count_SVM_f1_weighted, 'fit': count_SVM_fit}"
   ]
  },
  {
   "cell_type": "code",
   "execution_count": 67,
   "metadata": {},
   "outputs": [],
   "source": [
    "# instantiate model\n",
    "count_log_reg_baseline = LogisticRegression(penalty='l2', class_weight='balanced', random_state=20)"
   ]
  },
  {
   "cell_type": "code",
   "execution_count": 68,
   "metadata": {},
   "outputs": [
    {
     "name": "stdout",
     "output_type": "stream",
     "text": [
      "Wall time: 368 ms\n"
     ]
    },
    {
     "name": "stderr",
     "output_type": "stream",
     "text": [
      "C:\\Users\\Shaun Dsilva\\anaconda3\\envs\\ShaunEnv\\lib\\site-packages\\sklearn\\linear_model\\_logistic.py:763: ConvergenceWarning: lbfgs failed to converge (status=1):\n",
      "STOP: TOTAL NO. of ITERATIONS REACHED LIMIT.\n",
      "\n",
      "Increase the number of iterations (max_iter) or scale the data as shown in:\n",
      "    https://scikit-learn.org/stable/modules/preprocessing.html\n",
      "Please also refer to the documentation for alternative solver options:\n",
      "    https://scikit-learn.org/stable/modules/linear_model.html#logistic-regression\n",
      "  n_iter_i = _check_optimize_result(\n"
     ]
    }
   ],
   "source": [
    "%%time\n",
    "count_log_reg_baseline.fit(X_train_count, y_train)\n",
    "count_log_reg_test_preds = count_log_reg_baseline.predict(X_test_count)"
   ]
  },
  {
   "cell_type": "code",
   "execution_count": 69,
   "metadata": {},
   "outputs": [
    {
     "name": "stdout",
     "output_type": "stream",
     "text": [
      "Testing Set Evaluation Metrics:\n",
      "Precision: 0.2898\n",
      "Recall: 0.6241\n",
      "F1 Score: 0.3958\n",
      "Weighted F1 Score: 0.9121\n"
     ]
    }
   ],
   "source": [
    "count_log_reg_precision = precision_score(y_test, count_log_reg_test_preds)\n",
    "count_log_reg_recall = recall_score(y_test, count_log_reg_test_preds)\n",
    "count_log_reg_f1_score = f1_score(y_test, count_log_reg_test_preds)\n",
    "count_log_reg_f1_weighted = f1_score(y_test, count_log_reg_test_preds, average='weighted')\n",
    "\n",
    "# printing scores\n",
    "helpers.evaluation(count_log_reg_precision, count_log_reg_recall, count_log_reg_f1_score, count_log_reg_f1_weighted)"
   ]
  },
  {
   "cell_type": "code",
   "execution_count": 70,
   "metadata": {},
   "outputs": [
    {
     "name": "stdout",
     "output_type": "stream",
     "text": [
      "Wall time: 1.03 s\n"
     ]
    }
   ],
   "source": [
    "%%time\n",
    "# training f1\n",
    "count_log_reg_f1_cv = cross_val_score(count_log_reg_baseline, doc_X_train, doc_y_train, scoring='f1', cv=5)\n",
    "count_log_reg_mean_cv = round(count_log_reg_f1_cv.mean(), 6)"
   ]
  },
  {
   "cell_type": "code",
   "execution_count": 71,
   "metadata": {},
   "outputs": [
    {
     "data": {
      "text/plain": [
       "'underfit'"
      ]
     },
     "execution_count": 71,
     "metadata": {},
     "output_type": "execute_result"
    }
   ],
   "source": [
    "# is this model overfit or underfit?\n",
    "count_log_reg_fit = helpers.model_fit(count_log_reg_mean_cv, count_log_reg_f1_score)\n",
    "count_log_reg_fit"
   ]
  },
  {
   "cell_type": "code",
   "execution_count": 72,
   "metadata": {},
   "outputs": [],
   "source": [
    "metric_dict['Baseline Log Reg - CountVectorizer'] = {'precision': count_log_reg_precision, 'recall': count_log_reg_recall, 'f1_score': count_log_reg_f1_score, 'weighted_f1': count_log_reg_f1_weighted, 'fit': count_log_reg_fit}"
   ]
  },
  {
   "cell_type": "markdown",
   "metadata": {},
   "source": [
    "***"
   ]
  },
  {
   "cell_type": "code",
   "execution_count": 73,
   "metadata": {},
   "outputs": [],
   "source": [
    "# generating new sample data from original TF-IDF vectorized data\n",
    "sm = SMOTE(random_state=40)\n",
    "smote_X_train, smote_y_train = sm.fit_resample(X_train_count, y_train)"
   ]
  },
  {
   "cell_type": "code",
   "execution_count": 74,
   "metadata": {},
   "outputs": [],
   "source": [
    "# feeding in best log reg model\n",
    "smote_log_reg = LogisticRegression(penalty='l2', random_state=55)"
   ]
  },
  {
   "cell_type": "code",
   "execution_count": 75,
   "metadata": {},
   "outputs": [
    {
     "name": "stdout",
     "output_type": "stream",
     "text": [
      "Wall time: 517 ms\n"
     ]
    },
    {
     "name": "stderr",
     "output_type": "stream",
     "text": [
      "C:\\Users\\Shaun Dsilva\\anaconda3\\envs\\ShaunEnv\\lib\\site-packages\\sklearn\\linear_model\\_logistic.py:763: ConvergenceWarning: lbfgs failed to converge (status=1):\n",
      "STOP: TOTAL NO. of ITERATIONS REACHED LIMIT.\n",
      "\n",
      "Increase the number of iterations (max_iter) or scale the data as shown in:\n",
      "    https://scikit-learn.org/stable/modules/preprocessing.html\n",
      "Please also refer to the documentation for alternative solver options:\n",
      "    https://scikit-learn.org/stable/modules/linear_model.html#logistic-regression\n",
      "  n_iter_i = _check_optimize_result(\n"
     ]
    }
   ],
   "source": [
    "%%time\n",
    "smote_log_reg.fit(smote_X_train, smote_y_train)\n",
    "smote_log_reg_test_preds = smote_log_reg.predict(X_test_count)"
   ]
  },
  {
   "cell_type": "code",
   "execution_count": 76,
   "metadata": {},
   "outputs": [
    {
     "name": "stdout",
     "output_type": "stream",
     "text": [
      "Testing Set Evaluation Metrics:\n",
      "Precision: 0.2326\n",
      "Recall: 0.4745\n",
      "F1 Score: 0.3121\n",
      "Weighted F1 Score: 0.9024\n"
     ]
    }
   ],
   "source": [
    "smote_precision = precision_score(y_test, smote_log_reg_test_preds)\n",
    "smote_recall = recall_score(y_test, smote_log_reg_test_preds)\n",
    "smote_f1_score = f1_score(y_test, smote_log_reg_test_preds)\n",
    "smote_weighted_f1_score = f1_score(y_test, smote_log_reg_test_preds, average='weighted')\n",
    "\n",
    "# printing scores\n",
    "helpers.evaluation(smote_precision, smote_recall, smote_f1_score, smote_weighted_f1_score)"
   ]
  },
  {
   "cell_type": "code",
   "execution_count": 77,
   "metadata": {},
   "outputs": [
    {
     "name": "stderr",
     "output_type": "stream",
     "text": [
      "C:\\Users\\Shaun Dsilva\\anaconda3\\envs\\ShaunEnv\\lib\\site-packages\\sklearn\\linear_model\\_logistic.py:763: ConvergenceWarning: lbfgs failed to converge (status=1):\n",
      "STOP: TOTAL NO. of ITERATIONS REACHED LIMIT.\n",
      "\n",
      "Increase the number of iterations (max_iter) or scale the data as shown in:\n",
      "    https://scikit-learn.org/stable/modules/preprocessing.html\n",
      "Please also refer to the documentation for alternative solver options:\n",
      "    https://scikit-learn.org/stable/modules/linear_model.html#logistic-regression\n",
      "  n_iter_i = _check_optimize_result(\n",
      "C:\\Users\\Shaun Dsilva\\anaconda3\\envs\\ShaunEnv\\lib\\site-packages\\sklearn\\linear_model\\_logistic.py:763: ConvergenceWarning: lbfgs failed to converge (status=1):\n",
      "STOP: TOTAL NO. of ITERATIONS REACHED LIMIT.\n",
      "\n",
      "Increase the number of iterations (max_iter) or scale the data as shown in:\n",
      "    https://scikit-learn.org/stable/modules/preprocessing.html\n",
      "Please also refer to the documentation for alternative solver options:\n",
      "    https://scikit-learn.org/stable/modules/linear_model.html#logistic-regression\n",
      "  n_iter_i = _check_optimize_result(\n",
      "C:\\Users\\Shaun Dsilva\\anaconda3\\envs\\ShaunEnv\\lib\\site-packages\\sklearn\\linear_model\\_logistic.py:763: ConvergenceWarning: lbfgs failed to converge (status=1):\n",
      "STOP: TOTAL NO. of ITERATIONS REACHED LIMIT.\n",
      "\n",
      "Increase the number of iterations (max_iter) or scale the data as shown in:\n",
      "    https://scikit-learn.org/stable/modules/preprocessing.html\n",
      "Please also refer to the documentation for alternative solver options:\n",
      "    https://scikit-learn.org/stable/modules/linear_model.html#logistic-regression\n",
      "  n_iter_i = _check_optimize_result(\n",
      "C:\\Users\\Shaun Dsilva\\anaconda3\\envs\\ShaunEnv\\lib\\site-packages\\sklearn\\linear_model\\_logistic.py:763: ConvergenceWarning: lbfgs failed to converge (status=1):\n",
      "STOP: TOTAL NO. of ITERATIONS REACHED LIMIT.\n",
      "\n",
      "Increase the number of iterations (max_iter) or scale the data as shown in:\n",
      "    https://scikit-learn.org/stable/modules/preprocessing.html\n",
      "Please also refer to the documentation for alternative solver options:\n",
      "    https://scikit-learn.org/stable/modules/linear_model.html#logistic-regression\n",
      "  n_iter_i = _check_optimize_result(\n"
     ]
    },
    {
     "name": "stdout",
     "output_type": "stream",
     "text": [
      "Wall time: 2.54 s\n"
     ]
    },
    {
     "name": "stderr",
     "output_type": "stream",
     "text": [
      "C:\\Users\\Shaun Dsilva\\anaconda3\\envs\\ShaunEnv\\lib\\site-packages\\sklearn\\linear_model\\_logistic.py:763: ConvergenceWarning: lbfgs failed to converge (status=1):\n",
      "STOP: TOTAL NO. of ITERATIONS REACHED LIMIT.\n",
      "\n",
      "Increase the number of iterations (max_iter) or scale the data as shown in:\n",
      "    https://scikit-learn.org/stable/modules/preprocessing.html\n",
      "Please also refer to the documentation for alternative solver options:\n",
      "    https://scikit-learn.org/stable/modules/linear_model.html#logistic-regression\n",
      "  n_iter_i = _check_optimize_result(\n"
     ]
    }
   ],
   "source": [
    "%%time\n",
    "# training f1\n",
    "smote_f1_cv = cross_val_score(smote_log_reg, smote_X_train, smote_y_train, scoring='f1', cv=5)\n",
    "smote_f1_mean_cv = round(smote_f1_cv.mean(), 6)"
   ]
  },
  {
   "cell_type": "code",
   "execution_count": 78,
   "metadata": {},
   "outputs": [
    {
     "data": {
      "text/plain": [
       "'overfit'"
      ]
     },
     "execution_count": 78,
     "metadata": {},
     "output_type": "execute_result"
    }
   ],
   "source": [
    "# is this model overfit or underfit?\n",
    "smote_fit = helpers.model_fit(smote_f1_mean_cv, smote_f1_score)\n",
    "smote_fit"
   ]
  },
  {
   "cell_type": "code",
   "execution_count": 79,
   "metadata": {},
   "outputs": [],
   "source": [
    "# adding these metrics to evaluation metric dict\n",
    "metric_dict['Log Reg Oversampled - CountVectorizer'] = {'precision': smote_precision, 'recall': smote_recall, 'f1_score': smote_f1_score, 'weighted_f1': smote_weighted_f1_score, 'fit': smote_fit}"
   ]
  },
  {
   "cell_type": "code",
   "execution_count": 80,
   "metadata": {},
   "outputs": [
    {
     "name": "stdout",
     "output_type": "stream",
     "text": [
      "Resampled dataset shape Counter({0: 18653, 1: 1156})\n"
     ]
    }
   ],
   "source": [
    "# resampling original TF-IDF vectorized data\n",
    "tl = TomekLinks()\n",
    "tomek_X_train, tomek_y_train = tl.fit_resample(X_train_count, y_train)\n",
    "print('Resampled dataset shape %s' % Counter(tomek_y_train))"
   ]
  },
  {
   "cell_type": "code",
   "execution_count": 81,
   "metadata": {},
   "outputs": [],
   "source": [
    "tomek_log_reg = LogisticRegression(penalty='l2', random_state=55)"
   ]
  },
  {
   "cell_type": "code",
   "execution_count": 82,
   "metadata": {},
   "outputs": [
    {
     "name": "stdout",
     "output_type": "stream",
     "text": [
      "Wall time: 374 ms\n"
     ]
    }
   ],
   "source": [
    "%%time\n",
    "tomek_log_reg.fit(tomek_X_train, tomek_y_train)\n",
    "tomek_log_reg_test_preds = tomek_log_reg.predict(X_test_count)"
   ]
  },
  {
   "cell_type": "code",
   "execution_count": 83,
   "metadata": {},
   "outputs": [
    {
     "name": "stdout",
     "output_type": "stream",
     "text": [
      "Testing Set Evaluation Metrics:\n",
      "Precision: 0.5702\n",
      "Recall: 0.2372\n",
      "F1 Score: 0.3351\n",
      "Weighted F1 Score: 0.9377\n"
     ]
    }
   ],
   "source": [
    "tomek_precision = precision_score(y_test, tomek_log_reg_test_preds)\n",
    "tomek_recall = recall_score(y_test, tomek_log_reg_test_preds)\n",
    "tomek_f1_score = f1_score(y_test, tomek_log_reg_test_preds)\n",
    "tomek_weighted_f1_score = f1_score(y_test, tomek_log_reg_test_preds, average='weighted')\n",
    "\n",
    "# printing scores\n",
    "helpers.evaluation(tomek_precision, tomek_recall, tomek_f1_score, tomek_weighted_f1_score)"
   ]
  },
  {
   "cell_type": "code",
   "execution_count": 84,
   "metadata": {},
   "outputs": [
    {
     "name": "stdout",
     "output_type": "stream",
     "text": [
      "Wall time: 1.47 s\n"
     ]
    }
   ],
   "source": [
    "%%time\n",
    "# training f1\n",
    "tomek_f1_cv = cross_val_score(tomek_log_reg, tomek_X_train, tomek_y_train, scoring='f1', cv=5)\n",
    "tomek_mean_cv = round(tomek_f1_cv.mean(), 6)"
   ]
  },
  {
   "cell_type": "code",
   "execution_count": 85,
   "metadata": {},
   "outputs": [
    {
     "data": {
      "text/plain": [
       "'underfit'"
      ]
     },
     "execution_count": 85,
     "metadata": {},
     "output_type": "execute_result"
    }
   ],
   "source": [
    "# is this model overfit or underfit?\n",
    "tomek_fit = helpers.model_fit(tomek_mean_cv, tomek_f1_score)\n",
    "tomek_fit"
   ]
  },
  {
   "cell_type": "code",
   "execution_count": 86,
   "metadata": {},
   "outputs": [],
   "source": [
    "# adding these metrics to evaluation metric dict\n",
    "metric_dict['Log Reg Undersampled - CountVectorizer'] = {'precision': tomek_precision, 'recall': tomek_recall, 'f1_score': tomek_f1_score, 'weighted_f1': tomek_weighted_f1_score, 'fit': tomek_fit}"
   ]
  },
  {
   "cell_type": "markdown",
   "metadata": {},
   "source": [
    "***"
   ]
  },
  {
   "cell_type": "markdown",
   "metadata": {},
   "source": [
    "***"
   ]
  },
  {
   "cell_type": "markdown",
   "metadata": {},
   "source": [
    "# Evaluating All Models"
   ]
  },
  {
   "cell_type": "code",
   "execution_count": 87,
   "metadata": {},
   "outputs": [
    {
     "data": {
      "text/html": [
       "<div>\n",
       "<style scoped>\n",
       "    .dataframe tbody tr th:only-of-type {\n",
       "        vertical-align: middle;\n",
       "    }\n",
       "\n",
       "    .dataframe tbody tr th {\n",
       "        vertical-align: top;\n",
       "    }\n",
       "\n",
       "    .dataframe thead th {\n",
       "        text-align: right;\n",
       "    }\n",
       "</style>\n",
       "<table border=\"1\" class=\"dataframe\">\n",
       "  <thead>\n",
       "    <tr style=\"text-align: right;\">\n",
       "      <th></th>\n",
       "      <th>precision</th>\n",
       "      <th>recall</th>\n",
       "      <th>f1_score</th>\n",
       "      <th>weighted_f1</th>\n",
       "      <th>fit</th>\n",
       "    </tr>\n",
       "  </thead>\n",
       "  <tbody>\n",
       "    <tr>\n",
       "      <th>Baseline Random Forest - TFIDF</th>\n",
       "      <td>0.412844</td>\n",
       "      <td>0.161290</td>\n",
       "      <td>0.231959</td>\n",
       "      <td>0.927249</td>\n",
       "      <td>underfit</td>\n",
       "    </tr>\n",
       "    <tr>\n",
       "      <th>Baseline Log Reg - TFIDF</th>\n",
       "      <td>0.293900</td>\n",
       "      <td>0.569892</td>\n",
       "      <td>0.387805</td>\n",
       "      <td>0.913449</td>\n",
       "      <td>overfit</td>\n",
       "    </tr>\n",
       "    <tr>\n",
       "      <th>Baseline Naive Bayes - TFIDF</th>\n",
       "      <td>0.411765</td>\n",
       "      <td>0.125448</td>\n",
       "      <td>0.192308</td>\n",
       "      <td>0.925487</td>\n",
       "      <td>underfit</td>\n",
       "    </tr>\n",
       "    <tr>\n",
       "      <th>Baseline SVM - TFIDF</th>\n",
       "      <td>0.360947</td>\n",
       "      <td>0.437276</td>\n",
       "      <td>0.395462</td>\n",
       "      <td>0.928112</td>\n",
       "      <td>underfit</td>\n",
       "    </tr>\n",
       "    <tr>\n",
       "      <th>Baseline SVM - Doc2Vec</th>\n",
       "      <td>0.127252</td>\n",
       "      <td>0.512881</td>\n",
       "      <td>0.203911</td>\n",
       "      <td>0.827586</td>\n",
       "      <td>overfit</td>\n",
       "    </tr>\n",
       "    <tr>\n",
       "      <th>Baseline SVM - CountVectorizer</th>\n",
       "      <td>0.271218</td>\n",
       "      <td>0.536496</td>\n",
       "      <td>0.360294</td>\n",
       "      <td>0.910436</td>\n",
       "      <td>overfit</td>\n",
       "    </tr>\n",
       "    <tr>\n",
       "      <th>Baseline Log Reg - CountVectorizer</th>\n",
       "      <td>0.289831</td>\n",
       "      <td>0.624088</td>\n",
       "      <td>0.395833</td>\n",
       "      <td>0.912113</td>\n",
       "      <td>underfit</td>\n",
       "    </tr>\n",
       "    <tr>\n",
       "      <th>Log Reg Oversampled - CountVectorizer</th>\n",
       "      <td>0.232558</td>\n",
       "      <td>0.474453</td>\n",
       "      <td>0.312125</td>\n",
       "      <td>0.902366</td>\n",
       "      <td>overfit</td>\n",
       "    </tr>\n",
       "    <tr>\n",
       "      <th>Log Reg Undersampled - CountVectorizer</th>\n",
       "      <td>0.570175</td>\n",
       "      <td>0.237226</td>\n",
       "      <td>0.335052</td>\n",
       "      <td>0.937658</td>\n",
       "      <td>underfit</td>\n",
       "    </tr>\n",
       "  </tbody>\n",
       "</table>\n",
       "</div>"
      ],
      "text/plain": [
       "                                        precision    recall  f1_score  \\\n",
       "Baseline Random Forest - TFIDF           0.412844  0.161290  0.231959   \n",
       "Baseline Log Reg - TFIDF                 0.293900  0.569892  0.387805   \n",
       "Baseline Naive Bayes - TFIDF             0.411765  0.125448  0.192308   \n",
       "Baseline SVM - TFIDF                     0.360947  0.437276  0.395462   \n",
       "Baseline SVM - Doc2Vec                   0.127252  0.512881  0.203911   \n",
       "Baseline SVM - CountVectorizer           0.271218  0.536496  0.360294   \n",
       "Baseline Log Reg - CountVectorizer       0.289831  0.624088  0.395833   \n",
       "Log Reg Oversampled - CountVectorizer    0.232558  0.474453  0.312125   \n",
       "Log Reg Undersampled - CountVectorizer   0.570175  0.237226  0.335052   \n",
       "\n",
       "                                        weighted_f1       fit  \n",
       "Baseline Random Forest - TFIDF             0.927249  underfit  \n",
       "Baseline Log Reg - TFIDF                   0.913449   overfit  \n",
       "Baseline Naive Bayes - TFIDF               0.925487  underfit  \n",
       "Baseline SVM - TFIDF                       0.928112  underfit  \n",
       "Baseline SVM - Doc2Vec                     0.827586   overfit  \n",
       "Baseline SVM - CountVectorizer             0.910436   overfit  \n",
       "Baseline Log Reg - CountVectorizer         0.912113  underfit  \n",
       "Log Reg Oversampled - CountVectorizer      0.902366   overfit  \n",
       "Log Reg Undersampled - CountVectorizer     0.937658  underfit  "
      ]
     },
     "execution_count": 87,
     "metadata": {},
     "output_type": "execute_result"
    }
   ],
   "source": [
    "# printing dict for testing set metrics\n",
    "pd.DataFrame.from_dict(metric_dict, orient='index')"
   ]
  },
  {
   "cell_type": "code",
   "execution_count": null,
   "metadata": {},
   "outputs": [],
   "source": []
  },
  {
   "cell_type": "markdown",
   "metadata": {},
   "source": [
    "***"
   ]
  },
  {
   "cell_type": "markdown",
   "metadata": {},
   "source": [
    "# Final Model Analysis:"
   ]
  },
  {
   "cell_type": "code",
   "execution_count": 88,
   "metadata": {},
   "outputs": [],
   "source": [
    "pickle_out = open(\"./pickle/final_log_reg_count_model.pkl\",\"wb\")\n",
    "pickle.dump(count_log_reg_baseline, pickle_out)\n",
    "pickle_out.close()"
   ]
  },
  {
   "cell_type": "code",
   "execution_count": 89,
   "metadata": {},
   "outputs": [
    {
     "name": "stdout",
     "output_type": "stream",
     "text": [
      "Testing Set Evaluation Metrics:\n",
      "Precision: 0.2898\n",
      "Recall: 0.6241\n",
      "F1 Score: 0.3958\n",
      "Weighted F1 Score: 0.9121\n"
     ]
    }
   ],
   "source": [
    "helpers.evaluation(count_log_reg_precision, count_log_reg_recall, count_log_reg_f1_score, count_log_reg_f1_weighted)"
   ]
  },
  {
   "cell_type": "code",
   "execution_count": 90,
   "metadata": {},
   "outputs": [
    {
     "name": "stdout",
     "output_type": "stream",
     "text": [
      "Training F1 Score: 0.2425\n",
      "Testing F1 Score: 0.39583\n"
     ]
    }
   ],
   "source": [
    "# cross validated f1 score for training set\n",
    "print('Training F1 Score: {:.5}'.format(count_log_reg_mean_cv))\n",
    "# uniform f1 score for testing set\n",
    "print('Testing F1 Score: {:.5}'.format(count_log_reg_f1_score))"
   ]
  },
  {
   "cell_type": "markdown",
   "metadata": {},
   "source": [
    "## Confusion Matrix"
   ]
  },
  {
   "cell_type": "code",
   "execution_count": 91,
   "metadata": {},
   "outputs": [
    {
     "data": {
      "image/png": "[encoded data removed]",
      "text/plain": [
       "<Figure size 432x288 with 2 Axes>"
      ]
     },
     "metadata": {
      "needs_background": "light"
     },
     "output_type": "display_data"
    }
   ],
   "source": [
    "# generating standard confusion matrix\n",
    "SVM_conf_matrix = plot_confusion_matrix(count_log_reg_baseline, X_test_count, y_test,\n",
    "                                 display_labels=None,\n",
    "                                 cmap=plt.cm.Blues)\n",
    "SVM_conf_matrix.ax_.set_title('Confusion Matrix for \\n Logistic Regression with CountVectorizer')\n",
    "plt.xlabel('Predicted')\n",
    "plt.ylabel('Actual')\n",
    "plt.grid(False)\n",
    "plt.savefig('./visualizations/log_reg_count_matrix.png', bbox_inches = \"tight\", pad_inches=.5)\n",
    "plt.show()"
   ]
  },
  {
   "cell_type": "code",
   "execution_count": 92,
   "metadata": {},
   "outputs": [
    {
     "data": {
      "image/png": "[encoded data removed]",
      "text/plain": [
       "<Figure size 432x288 with 2 Axes>"
      ]
     },
     "metadata": {
      "needs_background": "light"
     },
     "output_type": "display_data"
    }
   ],
   "source": [
    "# generating normalized confusion matrix\n",
    "SVM_conf_matrix = plot_confusion_matrix(count_log_reg_baseline, X_test_count, y_test,\n",
    "                                 display_labels=None,\n",
    "                                 cmap=plt.cm.Purples,\n",
    "                                 normalize='true')\n",
    "SVM_conf_matrix.ax_.set_title('Normalized Confusion Matrix for \\n Logistic Regression with CountVectorizer')\n",
    "plt.xlabel('Predicted')\n",
    "plt.ylabel('Actual')\n",
    "plt.grid(False)\n",
    "plt.savefig('./visualizations/normalized_log_reg_countvec_matrix.png', bbox_inches = \"tight\", pad_inches=.5)\n",
    "plt.show()"
   ]
  },
  {
   "cell_type": "code",
   "execution_count": 93,
   "metadata": {},
   "outputs": [
    {
     "data": {
      "image/png": "[encoded data removed]",
      "text/plain": [
       "<Figure size 432x288 with 1 Axes>"
      ]
     },
     "metadata": {
      "needs_background": "light"
     },
     "output_type": "display_data"
    }
   ],
   "source": [
    "x=['Precission', 'Recall']\n",
    "y = ([count_log_reg_precision,count_log_reg_recall])\n",
    "y\n",
    "\n",
    "# Simple Bar Plot\n",
    "plt.bar(x,y)\n",
    "plt.xlabel('Categories')\n",
    "plt.ylabel(\"Values\")\n",
    "plt.title('Categories Bar Plot')\n",
    "plt.show()"
   ]
  },
  {
   "cell_type": "code",
   "execution_count": 94,
   "metadata": {},
   "outputs": [
    {
     "data": {
      "text/html": [
       "<div>\n",
       "<style scoped>\n",
       "    .dataframe tbody tr th:only-of-type {\n",
       "        vertical-align: middle;\n",
       "    }\n",
       "\n",
       "    .dataframe tbody tr th {\n",
       "        vertical-align: top;\n",
       "    }\n",
       "\n",
       "    .dataframe thead th {\n",
       "        text-align: right;\n",
       "    }\n",
       "</style>\n",
       "<table border=\"1\" class=\"dataframe\">\n",
       "  <thead>\n",
       "    <tr style=\"text-align: right;\">\n",
       "      <th></th>\n",
       "      <th>algorithms</th>\n",
       "      <th>precision</th>\n",
       "      <th>recall</th>\n",
       "      <th>f1_score</th>\n",
       "      <th>weighted_f1</th>\n",
       "      <th>fit</th>\n",
       "    </tr>\n",
       "  </thead>\n",
       "  <tbody>\n",
       "    <tr>\n",
       "      <th>0</th>\n",
       "      <td>RF-TFIDF</td>\n",
       "      <td>0.412844</td>\n",
       "      <td>0.161290</td>\n",
       "      <td>0.231959</td>\n",
       "      <td>0.927249</td>\n",
       "      <td>underfit</td>\n",
       "    </tr>\n",
       "    <tr>\n",
       "      <th>1</th>\n",
       "      <td>LR-TFIDF</td>\n",
       "      <td>0.293900</td>\n",
       "      <td>0.569892</td>\n",
       "      <td>0.387805</td>\n",
       "      <td>0.913449</td>\n",
       "      <td>overfit</td>\n",
       "    </tr>\n",
       "    <tr>\n",
       "      <th>2</th>\n",
       "      <td>NB-TFIDF</td>\n",
       "      <td>0.411765</td>\n",
       "      <td>0.125448</td>\n",
       "      <td>0.192308</td>\n",
       "      <td>0.925487</td>\n",
       "      <td>underfit</td>\n",
       "    </tr>\n",
       "    <tr>\n",
       "      <th>3</th>\n",
       "      <td>SVM-TFIDF</td>\n",
       "      <td>0.360947</td>\n",
       "      <td>0.437276</td>\n",
       "      <td>0.395462</td>\n",
       "      <td>0.928112</td>\n",
       "      <td>underfit</td>\n",
       "    </tr>\n",
       "    <tr>\n",
       "      <th>4</th>\n",
       "      <td>SVM-Doc2Vec</td>\n",
       "      <td>0.151836</td>\n",
       "      <td>0.571429</td>\n",
       "      <td>0.239921</td>\n",
       "      <td>0.842823</td>\n",
       "      <td>overfit</td>\n",
       "    </tr>\n",
       "    <tr>\n",
       "      <th>5</th>\n",
       "      <td>SVM-CountVectorizer</td>\n",
       "      <td>0.271218</td>\n",
       "      <td>0.536496</td>\n",
       "      <td>0.360294</td>\n",
       "      <td>0.910436</td>\n",
       "      <td>overfit</td>\n",
       "    </tr>\n",
       "    <tr>\n",
       "      <th>6</th>\n",
       "      <td>LR-CountVectorizer</td>\n",
       "      <td>0.289831</td>\n",
       "      <td>0.624088</td>\n",
       "      <td>0.395833</td>\n",
       "      <td>0.912113</td>\n",
       "      <td>underfit</td>\n",
       "    </tr>\n",
       "    <tr>\n",
       "      <th>7</th>\n",
       "      <td>LR Oversampled</td>\n",
       "      <td>0.232558</td>\n",
       "      <td>0.474453</td>\n",
       "      <td>0.312125</td>\n",
       "      <td>0.902366</td>\n",
       "      <td>overfit</td>\n",
       "    </tr>\n",
       "    <tr>\n",
       "      <th>8</th>\n",
       "      <td>LR Undersampled</td>\n",
       "      <td>0.570175</td>\n",
       "      <td>0.237226</td>\n",
       "      <td>0.335052</td>\n",
       "      <td>0.937658</td>\n",
       "      <td>underfit</td>\n",
       "    </tr>\n",
       "  </tbody>\n",
       "</table>\n",
       "</div>"
      ],
      "text/plain": [
       "            algorithms  precision    recall  f1_score  weighted_f1       fit\n",
       "0             RF-TFIDF   0.412844  0.161290  0.231959     0.927249  underfit\n",
       "1             LR-TFIDF   0.293900  0.569892  0.387805     0.913449   overfit\n",
       "2             NB-TFIDF   0.411765  0.125448  0.192308     0.925487  underfit\n",
       "3            SVM-TFIDF   0.360947  0.437276  0.395462     0.928112  underfit\n",
       "4          SVM-Doc2Vec   0.151836  0.571429  0.239921     0.842823   overfit\n",
       "5  SVM-CountVectorizer   0.271218  0.536496  0.360294     0.910436   overfit\n",
       "6   LR-CountVectorizer   0.289831  0.624088  0.395833     0.912113  underfit\n",
       "7       LR Oversampled   0.232558  0.474453  0.312125     0.902366   overfit\n",
       "8      LR Undersampled   0.570175  0.237226  0.335052     0.937658  underfit"
      ]
     },
     "execution_count": 94,
     "metadata": {},
     "output_type": "execute_result"
    }
   ],
   "source": [
    "df1 = pd.read_csv('C:\\\\Users\\\\Shaun Dsilva\\\\Desktop\\\\twitter_hate_speech_detection-master\\\\src\\\\table.csv')\n",
    "temp_df = df1.head(9)\n",
    "temp_df"
   ]
  },
  {
   "cell_type": "code",
   "execution_count": 95,
   "metadata": {
    "scrolled": true
   },
   "outputs": [
    {
     "data": {
      "image/png": "[encoded data removed]",
      "text/plain": [
       "<Figure size 864x432 with 1 Axes>"
      ]
     },
     "metadata": {
      "needs_background": "light"
     },
     "output_type": "display_data"
    }
   ],
   "source": [
    "plt.figure(figsize=(12,6))\n",
    "\n",
    "sns.barplot(y='precision',x='fit', hue = 'algorithms', ci = None, data=temp_df);    \n",
    "plt.show()"
   ]
  },
  {
   "cell_type": "code",
   "execution_count": 96,
   "metadata": {},
   "outputs": [
    {
     "data": {
      "image/png": "[encoded data removed]",
      "text/plain": [
       "<Figure size 864x432 with 1 Axes>"
      ]
     },
     "metadata": {
      "needs_background": "light"
     },
     "output_type": "display_data"
    }
   ],
   "source": [
    "plt.figure(figsize=(12,6))\n",
    "\n",
    "sns.barplot(y='recall',x='fit', hue = 'algorithms', ci = None, data=temp_df);\n",
    "plt.show()"
   ]
  },
  {
   "cell_type": "code",
   "execution_count": 97,
   "metadata": {},
   "outputs": [
    {
     "data": {
      "image/png": "[encoded data removed]",
      "text/plain": [
       "<Figure size 864x432 with 1 Axes>"
      ]
     },
     "metadata": {
      "needs_background": "light"
     },
     "output_type": "display_data"
    }
   ],
   "source": [
    "plt.figure(figsize=(12,6))\n",
    "\n",
    "sns.barplot(y='f1_score',x='fit', hue = 'algorithms', ci = None, data=temp_df);\n",
    "plt.show()"
   ]
  },
  {
   "cell_type": "code",
   "execution_count": null,
   "metadata": {},
   "outputs": [],
   "source": []
  }
 ],
 "metadata": {
  "kernelspec": {
   "display_name": "Python 3",
   "language": "python",
   "name": "python3"
  },
  "language_info": {
   "codemirror_mode": {
    "name": "ipython",
    "version": 3
   },
   "file_extension": ".py",
   "mimetype": "text/x-python",
   "name": "python",
   "nbconvert_exporter": "python",
   "pygments_lexer": "ipython3",
   "version": "3.8.8"
  }
 },
 "nbformat": 4,
 "nbformat_minor": 2
}
